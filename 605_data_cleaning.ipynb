{
 "cells": [
  {
   "cell_type": "markdown",
   "id": "6f1e1d1f-1134-482f-a0e7-3165c4e25c7e",
   "metadata": {},
   "source": [
    "### The ugly truth behind beauty: A deep dive into chemicals in cosmetics."
   ]
  },
  {
   "cell_type": "code",
   "execution_count": 166,
   "id": "4eccb836-641a-45fd-af0c-ee9a1d0ff850",
   "metadata": {},
   "outputs": [],
   "source": [
    "import pandas as pd"
   ]
  },
  {
   "cell_type": "markdown",
   "id": "08509946-365e-482f-8801-770cdd750106",
   "metadata": {},
   "source": [
    "### Load the data"
   ]
  },
  {
   "cell_type": "code",
   "execution_count": 167,
   "id": "cff67094-a192-43e5-98f8-8d0d12d85245",
   "metadata": {},
   "outputs": [
    {
     "data": {
      "text/html": [
       "<div>\n",
       "<style scoped>\n",
       "    .dataframe tbody tr th:only-of-type {\n",
       "        vertical-align: middle;\n",
       "    }\n",
       "\n",
       "    .dataframe tbody tr th {\n",
       "        vertical-align: top;\n",
       "    }\n",
       "\n",
       "    .dataframe thead th {\n",
       "        text-align: right;\n",
       "    }\n",
       "</style>\n",
       "<table border=\"1\" class=\"dataframe\">\n",
       "  <thead>\n",
       "    <tr style=\"text-align: right;\">\n",
       "      <th></th>\n",
       "      <th>CDPHId</th>\n",
       "      <th>ProductName</th>\n",
       "      <th>CSFId</th>\n",
       "      <th>CSF</th>\n",
       "      <th>CompanyId</th>\n",
       "      <th>CompanyName</th>\n",
       "      <th>BrandName</th>\n",
       "      <th>PrimaryCategoryId</th>\n",
       "      <th>PrimaryCategory</th>\n",
       "      <th>SubCategoryId</th>\n",
       "      <th>...</th>\n",
       "      <th>CasNumber</th>\n",
       "      <th>ChemicalId</th>\n",
       "      <th>ChemicalName</th>\n",
       "      <th>InitialDateReported</th>\n",
       "      <th>MostRecentDateReported</th>\n",
       "      <th>DiscontinuedDate</th>\n",
       "      <th>ChemicalCreatedAt</th>\n",
       "      <th>ChemicalUpdatedAt</th>\n",
       "      <th>ChemicalDateRemoved</th>\n",
       "      <th>ChemicalCount</th>\n",
       "    </tr>\n",
       "  </thead>\n",
       "  <tbody>\n",
       "    <tr>\n",
       "      <th>0</th>\n",
       "      <td>2</td>\n",
       "      <td>ULTRA COLOR RICH EXTRA PLUMP LIPSTICK-ALL SHADES</td>\n",
       "      <td>NaN</td>\n",
       "      <td>NaN</td>\n",
       "      <td>4</td>\n",
       "      <td>New Avon LLC</td>\n",
       "      <td>AVON</td>\n",
       "      <td>44</td>\n",
       "      <td>Makeup Products (non-permanent)</td>\n",
       "      <td>53</td>\n",
       "      <td>...</td>\n",
       "      <td>13463-67-7</td>\n",
       "      <td>6</td>\n",
       "      <td>Titanium dioxide</td>\n",
       "      <td>06/17/2009</td>\n",
       "      <td>08/28/2013</td>\n",
       "      <td>02/01/2011</td>\n",
       "      <td>07/09/2009</td>\n",
       "      <td>07/09/2009</td>\n",
       "      <td>NaN</td>\n",
       "      <td>1</td>\n",
       "    </tr>\n",
       "    <tr>\n",
       "      <th>1</th>\n",
       "      <td>3</td>\n",
       "      <td>Glover's Medicated Shampoo</td>\n",
       "      <td>NaN</td>\n",
       "      <td>NaN</td>\n",
       "      <td>338</td>\n",
       "      <td>J. Strickland &amp; Co.</td>\n",
       "      <td>Glover's</td>\n",
       "      <td>18</td>\n",
       "      <td>Hair Care Products (non-coloring)</td>\n",
       "      <td>25</td>\n",
       "      <td>...</td>\n",
       "      <td>65996-92-1</td>\n",
       "      <td>4</td>\n",
       "      <td>Distillates (coal tar)</td>\n",
       "      <td>07/01/2009</td>\n",
       "      <td>07/01/2009</td>\n",
       "      <td>NaN</td>\n",
       "      <td>07/01/2009</td>\n",
       "      <td>07/01/2009</td>\n",
       "      <td>NaN</td>\n",
       "      <td>2</td>\n",
       "    </tr>\n",
       "    <tr>\n",
       "      <th>2</th>\n",
       "      <td>3</td>\n",
       "      <td>Glover's Medicated Shampoo</td>\n",
       "      <td>NaN</td>\n",
       "      <td>NaN</td>\n",
       "      <td>338</td>\n",
       "      <td>J. Strickland &amp; Co.</td>\n",
       "      <td>Glover's</td>\n",
       "      <td>18</td>\n",
       "      <td>Hair Care Products (non-coloring)</td>\n",
       "      <td>25</td>\n",
       "      <td>...</td>\n",
       "      <td>140-67-0</td>\n",
       "      <td>5</td>\n",
       "      <td>Estragole</td>\n",
       "      <td>07/01/2009</td>\n",
       "      <td>07/01/2009</td>\n",
       "      <td>NaN</td>\n",
       "      <td>07/02/2009</td>\n",
       "      <td>07/02/2009</td>\n",
       "      <td>NaN</td>\n",
       "      <td>2</td>\n",
       "    </tr>\n",
       "    <tr>\n",
       "      <th>3</th>\n",
       "      <td>4</td>\n",
       "      <td>PRECISION GLIMMER EYE LINER-ALL SHADES �</td>\n",
       "      <td>NaN</td>\n",
       "      <td>NaN</td>\n",
       "      <td>4</td>\n",
       "      <td>New Avon LLC</td>\n",
       "      <td>AVON</td>\n",
       "      <td>44</td>\n",
       "      <td>Makeup Products (non-permanent)</td>\n",
       "      <td>46</td>\n",
       "      <td>...</td>\n",
       "      <td>13463-67-7</td>\n",
       "      <td>7</td>\n",
       "      <td>Titanium dioxide</td>\n",
       "      <td>07/09/2009</td>\n",
       "      <td>08/28/2013</td>\n",
       "      <td>NaN</td>\n",
       "      <td>07/09/2009</td>\n",
       "      <td>07/09/2009</td>\n",
       "      <td>NaN</td>\n",
       "      <td>1</td>\n",
       "    </tr>\n",
       "    <tr>\n",
       "      <th>4</th>\n",
       "      <td>5</td>\n",
       "      <td>AVON BRILLIANT SHINE LIP GLOSS-ALL SHADES �</td>\n",
       "      <td>NaN</td>\n",
       "      <td>NaN</td>\n",
       "      <td>4</td>\n",
       "      <td>New Avon LLC</td>\n",
       "      <td>AVON</td>\n",
       "      <td>44</td>\n",
       "      <td>Makeup Products (non-permanent)</td>\n",
       "      <td>52</td>\n",
       "      <td>...</td>\n",
       "      <td>13463-67-7</td>\n",
       "      <td>8</td>\n",
       "      <td>Titanium dioxide</td>\n",
       "      <td>07/09/2009</td>\n",
       "      <td>08/28/2013</td>\n",
       "      <td>02/01/2011</td>\n",
       "      <td>07/09/2009</td>\n",
       "      <td>07/09/2009</td>\n",
       "      <td>NaN</td>\n",
       "      <td>1</td>\n",
       "    </tr>\n",
       "  </tbody>\n",
       "</table>\n",
       "<p>5 rows × 22 columns</p>\n",
       "</div>"
      ],
      "text/plain": [
       "   CDPHId                                       ProductName  CSFId  CSF  \\\n",
       "0       2  ULTRA COLOR RICH EXTRA PLUMP LIPSTICK-ALL SHADES    NaN  NaN   \n",
       "1       3                        Glover's Medicated Shampoo    NaN  NaN   \n",
       "2       3                        Glover's Medicated Shampoo    NaN  NaN   \n",
       "3       4          PRECISION GLIMMER EYE LINER-ALL SHADES �    NaN  NaN   \n",
       "4       5       AVON BRILLIANT SHINE LIP GLOSS-ALL SHADES �    NaN  NaN   \n",
       "\n",
       "   CompanyId          CompanyName BrandName  PrimaryCategoryId  \\\n",
       "0          4         New Avon LLC      AVON                 44   \n",
       "1        338  J. Strickland & Co.  Glover's                 18   \n",
       "2        338  J. Strickland & Co.  Glover's                 18   \n",
       "3          4         New Avon LLC      AVON                 44   \n",
       "4          4         New Avon LLC      AVON                 44   \n",
       "\n",
       "                     PrimaryCategory  SubCategoryId  ...   CasNumber  \\\n",
       "0    Makeup Products (non-permanent)             53  ...  13463-67-7   \n",
       "1  Hair Care Products (non-coloring)             25  ...  65996-92-1   \n",
       "2  Hair Care Products (non-coloring)             25  ...    140-67-0   \n",
       "3    Makeup Products (non-permanent)             46  ...  13463-67-7   \n",
       "4    Makeup Products (non-permanent)             52  ...  13463-67-7   \n",
       "\n",
       "   ChemicalId            ChemicalName  InitialDateReported  \\\n",
       "0           6        Titanium dioxide           06/17/2009   \n",
       "1           4  Distillates (coal tar)           07/01/2009   \n",
       "2           5               Estragole           07/01/2009   \n",
       "3           7        Titanium dioxide           07/09/2009   \n",
       "4           8        Titanium dioxide           07/09/2009   \n",
       "\n",
       "  MostRecentDateReported DiscontinuedDate ChemicalCreatedAt ChemicalUpdatedAt  \\\n",
       "0             08/28/2013       02/01/2011        07/09/2009        07/09/2009   \n",
       "1             07/01/2009              NaN        07/01/2009        07/01/2009   \n",
       "2             07/01/2009              NaN        07/02/2009        07/02/2009   \n",
       "3             08/28/2013              NaN        07/09/2009        07/09/2009   \n",
       "4             08/28/2013       02/01/2011        07/09/2009        07/09/2009   \n",
       "\n",
       "  ChemicalDateRemoved ChemicalCount  \n",
       "0                 NaN             1  \n",
       "1                 NaN             2  \n",
       "2                 NaN             2  \n",
       "3                 NaN             1  \n",
       "4                 NaN             1  \n",
       "\n",
       "[5 rows x 22 columns]"
      ]
     },
     "execution_count": 167,
     "metadata": {},
     "output_type": "execute_result"
    }
   ],
   "source": [
    "df = pd.read_csv(\"cscpopendata.csv\", low_memory = False)\n",
    "df.head()"
   ]
  },
  {
   "cell_type": "code",
   "execution_count": 172,
   "id": "85066319-81b8-4267-96dc-126006ae30f0",
   "metadata": {},
   "outputs": [
    {
     "name": "stdout",
     "output_type": "stream",
     "text": [
      "<class 'pandas.core.frame.DataFrame'>\n",
      "RangeIndex: 114635 entries, 0 to 114634\n",
      "Data columns (total 22 columns):\n",
      " #   Column                  Non-Null Count   Dtype  \n",
      "---  ------                  --------------   -----  \n",
      " 0   CDPHId                  114635 non-null  int64  \n",
      " 1   ProductName             114635 non-null  object \n",
      " 2   CSFId                   80662 non-null   float64\n",
      " 3   CSF                     80237 non-null   object \n",
      " 4   CompanyId               114635 non-null  int64  \n",
      " 5   CompanyName             114635 non-null  object \n",
      " 6   BrandName               114408 non-null  object \n",
      " 7   PrimaryCategoryId       114635 non-null  int64  \n",
      " 8   PrimaryCategory         114635 non-null  object \n",
      " 9   SubCategoryId           114635 non-null  int64  \n",
      " 10  SubCategory             114635 non-null  object \n",
      " 11  CasId                   114635 non-null  int64  \n",
      " 12  CasNumber               108159 non-null  object \n",
      " 13  ChemicalId              114635 non-null  int64  \n",
      " 14  ChemicalName            114635 non-null  object \n",
      " 15  InitialDateReported     114635 non-null  object \n",
      " 16  MostRecentDateReported  114635 non-null  object \n",
      " 17  DiscontinuedDate        12920 non-null   object \n",
      " 18  ChemicalCreatedAt       114635 non-null  object \n",
      " 19  ChemicalUpdatedAt       114635 non-null  object \n",
      " 20  ChemicalDateRemoved     2985 non-null    object \n",
      " 21  ChemicalCount           114635 non-null  int64  \n",
      "dtypes: float64(1), int64(7), object(14)\n",
      "memory usage: 19.2+ MB\n"
     ]
    }
   ],
   "source": [
    "df.info()"
   ]
  },
  {
   "cell_type": "code",
   "execution_count": 170,
   "id": "fb7899a4-9b56-4223-a585-8ee204a3f591",
   "metadata": {},
   "outputs": [
    {
     "name": "stdout",
     "output_type": "stream",
     "text": [
      "CDPHId                         0\n",
      "ProductName                    0\n",
      "CSFId                      33973\n",
      "CSF                        34398\n",
      "CompanyId                      0\n",
      "CompanyName                    0\n",
      "BrandName                    227\n",
      "PrimaryCategoryId              0\n",
      "PrimaryCategory                0\n",
      "SubCategoryId                  0\n",
      "SubCategory                    0\n",
      "CasId                          0\n",
      "CasNumber                   6476\n",
      "ChemicalId                     0\n",
      "ChemicalName                   0\n",
      "InitialDateReported            0\n",
      "MostRecentDateReported         0\n",
      "DiscontinuedDate          101715\n",
      "ChemicalCreatedAt              0\n",
      "ChemicalUpdatedAt              0\n",
      "ChemicalDateRemoved       111650\n",
      "ChemicalCount                  0\n",
      "dtype: int64\n"
     ]
    }
   ],
   "source": [
    "print(df.isnull().sum())"
   ]
  },
  {
   "cell_type": "markdown",
   "id": "af409504-11ca-41c9-9478-be798f8c3c99",
   "metadata": {},
   "source": [
    "Percentage of missing values."
   ]
  },
  {
   "cell_type": "code",
   "execution_count": 174,
   "id": "c1761109-edc0-46a5-b3e1-d75555abc661",
   "metadata": {},
   "outputs": [
    {
     "data": {
      "text/plain": [
       "CSFId                  29.635801\n",
       "CSF                    30.006543\n",
       "BrandName               0.198020\n",
       "CasNumber               5.649235\n",
       "DiscontinuedDate       88.729446\n",
       "ChemicalDateRemoved    97.396083\n",
       "dtype: float64"
      ]
     },
     "execution_count": 174,
     "metadata": {},
     "output_type": "execute_result"
    }
   ],
   "source": [
    "missing_values = df.isnull().sum() / len(df) * 100\n",
    "missing_values[missing_values > 0]"
   ]
  },
  {
   "cell_type": "code",
   "execution_count": 176,
   "id": "afe9c137-38ae-42dd-a27b-96ce3e33b490",
   "metadata": {},
   "outputs": [
    {
     "data": {
      "text/plain": [
       "Index(['CDPHId', 'ProductName', 'CSFId', 'CSF', 'CompanyId', 'CompanyName',\n",
       "       'BrandName', 'PrimaryCategoryId', 'PrimaryCategory', 'SubCategoryId',\n",
       "       'SubCategory', 'CasId', 'CasNumber', 'ChemicalId', 'ChemicalName',\n",
       "       'InitialDateReported', 'MostRecentDateReported', 'DiscontinuedDate',\n",
       "       'ChemicalCreatedAt', 'ChemicalUpdatedAt', 'ChemicalDateRemoved',\n",
       "       'ChemicalCount'],\n",
       "      dtype='object')"
      ]
     },
     "execution_count": 176,
     "metadata": {},
     "output_type": "execute_result"
    }
   ],
   "source": [
    "df.columns"
   ]
  },
  {
   "cell_type": "code",
   "execution_count": 178,
   "id": "4509792c-43c2-46c3-9f9d-fbb9e0c8f101",
   "metadata": {},
   "outputs": [],
   "source": [
    "#CasNumber = REAL global chemical ID (like a passport number for a chemical).\n",
    "\n",
    "df = df.drop(columns=[\"DiscontinuedDate\", \"ChemicalDateRemoved\", \"CasNumber\"])\n"
   ]
  },
  {
   "cell_type": "markdown",
   "id": "2402f7fc-4c5e-4146-b12e-c11a71fe4056",
   "metadata": {},
   "source": [
    "When these unique identifiers like CasId, CDPHId etc were removed, previously unique rows became identical, increasing the number of duplicate rows. so lets only handle columns that have null values. "
   ]
  },
  {
   "cell_type": "markdown",
   "id": "435f889d-55c5-4cea-a48f-4df2ef65392c",
   "metadata": {},
   "source": [
    "If dropping a column introduces duplicates, that means it's playing a role in differentiating data.\n",
    "Keeping them (even if unused in analysis) prevents accidental data distortion.\n"
   ]
  },
  {
   "cell_type": "code",
   "execution_count": 181,
   "id": "c9fb7521-71dc-4e8d-a057-d2f3ed925cc0",
   "metadata": {},
   "outputs": [],
   "source": [
    "df[\"CSFId\"].fillna(0, inplace=True)  # Filling missing CSFId with 0\n",
    "df[\"CSF\"].fillna(\"Unknown\", inplace=True)  # Filling missing CSF with \"Unknown\"\n"
   ]
  },
  {
   "cell_type": "markdown",
   "id": "aeeae4bb-f23b-4575-bed1-601e3647c2ba",
   "metadata": {},
   "source": [
    "Since the missing values of BrandName are small in number, we can replace them with \"other\". "
   ]
  },
  {
   "cell_type": "code",
   "execution_count": 183,
   "id": "0475b510-5703-459a-9698-38c7a246e2c1",
   "metadata": {},
   "outputs": [],
   "source": [
    "df[\"BrandName\"] = df[\"BrandName\"].fillna(\"OTHER\")"
   ]
  },
  {
   "cell_type": "code",
   "execution_count": 185,
   "id": "34b071ac-713f-44ef-9000-bfaecd840b65",
   "metadata": {},
   "outputs": [
    {
     "name": "stdout",
     "output_type": "stream",
     "text": [
      "Duplicate rows before removal: 257\n",
      "Duplicate rows after removal: 0\n"
     ]
    }
   ],
   "source": [
    "# Check for duplicate rows\n",
    "duplicate_count = df.duplicated().sum()\n",
    "print(\"Duplicate rows before removal:\", duplicate_count)\n",
    "\n",
    "# Drop duplicate rows (keeping the first occurrence)\n",
    "df = df.drop_duplicates()\n",
    "\n",
    "# Verify removal\n",
    "print(\"Duplicate rows after removal:\", df.duplicated().sum())\n"
   ]
  },
  {
   "cell_type": "code",
   "execution_count": 187,
   "id": "92f12af1-9a1a-4687-954e-dacb16132c2d",
   "metadata": {},
   "outputs": [
    {
     "name": "stdout",
     "output_type": "stream",
     "text": [
      "CDPHId                             int64\n",
      "ProductName                       object\n",
      "CSFId                            float64\n",
      "CSF                               object\n",
      "CompanyId                          int64\n",
      "CompanyName                       object\n",
      "BrandName                         object\n",
      "PrimaryCategoryId                  int64\n",
      "PrimaryCategory                   object\n",
      "SubCategoryId                      int64\n",
      "SubCategory                       object\n",
      "CasId                              int64\n",
      "ChemicalId                         int64\n",
      "ChemicalName                      object\n",
      "InitialDateReported       datetime64[ns]\n",
      "MostRecentDateReported    datetime64[ns]\n",
      "ChemicalCreatedAt         datetime64[ns]\n",
      "ChemicalUpdatedAt         datetime64[ns]\n",
      "ChemicalCount                      int64\n",
      "dtype: object\n"
     ]
    }
   ],
   "source": [
    "#converting datatypes so that we can analyse trends over time without any formatting issues.\n",
    "\n",
    "# List of date columns\n",
    "date_columns = [\"InitialDateReported\", \"MostRecentDateReported\", \"ChemicalCreatedAt\", \"ChemicalUpdatedAt\"]\n",
    "\n",
    "# Convert to datetime format\n",
    "for col in date_columns:\n",
    "    df[col] = pd.to_datetime(df[col], errors=\"coerce\")\n",
    "\n",
    "# Verify changes\n",
    "print(df.dtypes)\n"
   ]
  },
  {
   "cell_type": "code",
   "execution_count": 189,
   "id": "855dc211-7f9a-4d59-bb09-c749799dee70",
   "metadata": {},
   "outputs": [
    {
     "name": "stdout",
     "output_type": "stream",
     "text": [
      "<class 'pandas.core.frame.DataFrame'>\n",
      "Index: 114378 entries, 0 to 114634\n",
      "Data columns (total 19 columns):\n",
      " #   Column                  Non-Null Count   Dtype         \n",
      "---  ------                  --------------   -----         \n",
      " 0   CDPHId                  114378 non-null  int64         \n",
      " 1   ProductName             114378 non-null  object        \n",
      " 2   CSFId                   114378 non-null  float64       \n",
      " 3   CSF                     114378 non-null  object        \n",
      " 4   CompanyId               114378 non-null  int64         \n",
      " 5   CompanyName             114378 non-null  object        \n",
      " 6   BrandName               114378 non-null  object        \n",
      " 7   PrimaryCategoryId       114378 non-null  int64         \n",
      " 8   PrimaryCategory         114378 non-null  object        \n",
      " 9   SubCategoryId           114378 non-null  int64         \n",
      " 10  SubCategory             114378 non-null  object        \n",
      " 11  CasId                   114378 non-null  int64         \n",
      " 12  ChemicalId              114378 non-null  int64         \n",
      " 13  ChemicalName            114378 non-null  object        \n",
      " 14  InitialDateReported     114378 non-null  datetime64[ns]\n",
      " 15  MostRecentDateReported  114378 non-null  datetime64[ns]\n",
      " 16  ChemicalCreatedAt       114378 non-null  datetime64[ns]\n",
      " 17  ChemicalUpdatedAt       114378 non-null  datetime64[ns]\n",
      " 18  ChemicalCount           114378 non-null  int64         \n",
      "dtypes: datetime64[ns](4), float64(1), int64(7), object(7)\n",
      "memory usage: 17.5+ MB\n"
     ]
    }
   ],
   "source": [
    "df.info()"
   ]
  },
  {
   "cell_type": "code",
   "execution_count": 191,
   "id": "6693c1f5-102e-42da-968f-5b6179ad001a",
   "metadata": {},
   "outputs": [],
   "source": [
    "# Text standardize\n",
    "# Text standardization\n",
    "\n",
    "# List of categorical columns to standardize\n",
    "text_columns = [\"BrandName\", \"CompanyName\", \"ProductName\", \"PrimaryCategory\", \"SubCategory\", \"ChemicalName\", \"CSF\"]\n",
    "\n",
    "# Convert text to lowercase, strip spaces, and normalize spacing between words\n",
    "df[text_columns] = df[text_columns].apply(lambda x: x.str.lower().str.strip().str.replace(r\"\\s+\", \" \", regex=True))\n",
    "\n"
   ]
  },
  {
   "cell_type": "code",
   "execution_count": 193,
   "id": "29530348-379f-434c-9162-da63d6576969",
   "metadata": {},
   "outputs": [],
   "source": [
    "# for the ease of analysis, shortened the name.\n",
    "# Rename long chemical names for better visualization\n",
    "chemical_name_replacements = {\n",
    "    \"retinol/retinyl esters, when in daily dosages in excess of 10,000 iu, or 3,000 retinol equivalents.\": \"Retinol/Retinyl Esters\",\n",
    "    \"silica, crystalline (airborne particles of respirable size)\": \"Silica, Crystalline\"\n",
    "}\n",
    "\n",
    "df[\"ChemicalName\"] = df[\"ChemicalName\"].replace(chemical_name_replacements)\n"
   ]
  },
  {
   "cell_type": "code",
   "execution_count": 195,
   "id": "4f78eed3-01ae-4178-8c1c-967eeb9e005d",
   "metadata": {},
   "outputs": [],
   "source": [
    "# Export cleaned dataset for Tableau\n",
    "df.to_csv(\"cleaned_cosmetics_data.csv\", index=False)\n"
   ]
  },
  {
   "cell_type": "markdown",
   "id": "669efabc-1261-40b9-b755-e4ee63cdce98",
   "metadata": {},
   "source": [
    "## EDA"
   ]
  },
  {
   "cell_type": "code",
   "execution_count": 199,
   "id": "c66d7bdb-0de4-45ea-a0e1-0cd09418dcc6",
   "metadata": {},
   "outputs": [
    {
     "name": "stdout",
     "output_type": "stream",
     "text": [
      "<class 'pandas.core.frame.DataFrame'>\n",
      "Index: 114378 entries, 0 to 114634\n",
      "Data columns (total 19 columns):\n",
      " #   Column                  Non-Null Count   Dtype         \n",
      "---  ------                  --------------   -----         \n",
      " 0   CDPHId                  114378 non-null  int64         \n",
      " 1   ProductName             114378 non-null  object        \n",
      " 2   CSFId                   114378 non-null  float64       \n",
      " 3   CSF                     114378 non-null  object        \n",
      " 4   CompanyId               114378 non-null  int64         \n",
      " 5   CompanyName             114378 non-null  object        \n",
      " 6   BrandName               114378 non-null  object        \n",
      " 7   PrimaryCategoryId       114378 non-null  int64         \n",
      " 8   PrimaryCategory         114378 non-null  object        \n",
      " 9   SubCategoryId           114378 non-null  int64         \n",
      " 10  SubCategory             114378 non-null  object        \n",
      " 11  CasId                   114378 non-null  int64         \n",
      " 12  ChemicalId              114378 non-null  int64         \n",
      " 13  ChemicalName            114378 non-null  object        \n",
      " 14  InitialDateReported     114378 non-null  datetime64[ns]\n",
      " 15  MostRecentDateReported  114378 non-null  datetime64[ns]\n",
      " 16  ChemicalCreatedAt       114378 non-null  datetime64[ns]\n",
      " 17  ChemicalUpdatedAt       114378 non-null  datetime64[ns]\n",
      " 18  ChemicalCount           114378 non-null  int64         \n",
      "dtypes: datetime64[ns](4), float64(1), int64(7), object(7)\n",
      "memory usage: 17.5+ MB\n"
     ]
    }
   ],
   "source": [
    "# checking the information of the dataset\n",
    "\n",
    "df.info()"
   ]
  },
  {
   "cell_type": "code",
   "execution_count": 201,
   "id": "14011480-5d23-47a1-a195-a8e808895687",
   "metadata": {},
   "outputs": [
    {
     "name": "stdout",
     "output_type": "stream",
     "text": [
      "Dataset shape: (114378, 19)\n"
     ]
    }
   ],
   "source": [
    "# summary and overview\n",
    "\n",
    "print(\"Dataset shape:\", df.shape)\n"
   ]
  },
  {
   "cell_type": "code",
   "execution_count": 203,
   "id": "2f6d4ec4-dca6-49ca-b81d-08c5eca38856",
   "metadata": {},
   "outputs": [
    {
     "name": "stdout",
     "output_type": "stream",
     "text": [
      "              CDPHId          CSFId      CompanyId  PrimaryCategoryId  \\\n",
      "count  114378.000000  114378.000000  114378.000000      114378.000000   \n",
      "mean    20338.284347   22992.995183     451.187204          51.125767   \n",
      "min         2.000000       0.000000       4.000000           1.000000   \n",
      "25%      8791.250000       0.000000      86.000000          44.000000   \n",
      "50%     20911.500000   19113.500000     298.000000          44.000000   \n",
      "75%     31380.750000   42733.000000     798.000000          59.000000   \n",
      "max     41524.000000   65009.000000    1391.000000         111.000000   \n",
      "std     12481.370666   21865.018812     409.717683          20.464540   \n",
      "\n",
      "       SubCategoryId          CasId     ChemicalId  \\\n",
      "count  114378.000000  114378.000000  114378.000000   \n",
      "mean       66.886097     673.139380   32910.498549   \n",
      "min         3.000000       2.000000       0.000000   \n",
      "25%        48.000000     656.000000   14094.250000   \n",
      "50%        52.000000     656.000000   32115.500000   \n",
      "75%        65.000000     656.000000   51641.000000   \n",
      "max       172.000000    1242.000000   68074.000000   \n",
      "std        35.817780     148.005566   20403.303791   \n",
      "\n",
      "                 InitialDateReported         MostRecentDateReported  \\\n",
      "count                         114378                         114378   \n",
      "mean   2013-11-25 07:37:31.628809728  2015-05-03 14:29:21.191837696   \n",
      "min              2009-06-17 00:00:00            2009-07-01 00:00:00   \n",
      "25%              2009-12-16 00:00:00            2011-08-25 06:00:00   \n",
      "50%              2013-09-23 00:00:00            2015-07-09 00:00:00   \n",
      "75%              2017-08-07 00:00:00            2018-10-12 00:00:00   \n",
      "max              2020-06-23 00:00:00            2020-06-24 00:00:00   \n",
      "std                              NaN                            NaN   \n",
      "\n",
      "                   ChemicalCreatedAt              ChemicalUpdatedAt  \\\n",
      "count                         114378                         114378   \n",
      "mean   2013-12-31 01:21:21.330325760  2014-04-02 18:16:12.564654080   \n",
      "min              2009-07-01 00:00:00            2009-07-01 00:00:00   \n",
      "25%              2009-12-22 00:00:00            2010-03-29 00:00:00   \n",
      "50%              2013-10-10 00:00:00            2014-04-01 00:00:00   \n",
      "75%              2017-10-13 00:00:00            2017-12-12 00:00:00   \n",
      "max              2020-06-23 00:00:00            2020-06-24 00:00:00   \n",
      "std                              NaN                            NaN   \n",
      "\n",
      "       ChemicalCount  \n",
      "count  114378.000000  \n",
      "mean        1.288989  \n",
      "min         0.000000  \n",
      "25%         1.000000  \n",
      "50%         1.000000  \n",
      "75%         1.000000  \n",
      "max         9.000000  \n",
      "std         0.636980  \n"
     ]
    }
   ],
   "source": [
    "# Summary statistics for numeric columns\n",
    "print(df.describe())\n"
   ]
  },
  {
   "cell_type": "code",
   "execution_count": 205,
   "id": "5f73ab9c-5aa5-4d76-8ae7-50a7a1f22274",
   "metadata": {},
   "outputs": [
    {
     "name": "stdout",
     "output_type": "stream",
     "text": [
      "604 unique companies\n",
      "33438 unique products\n",
      "2393 unique brands\n",
      "13 unique primary categories\n",
      "89 unique subcategories\n",
      "123 unique chemicals\n"
     ]
    }
   ],
   "source": [
    "print(df[\"CompanyName\"].nunique(), \"unique companies\")\n",
    "print(df[\"ProductName\"].nunique(), \"unique products\")\n",
    "print(df[\"BrandName\"].nunique(), \"unique brands\")\n",
    "print(df[\"PrimaryCategory\"].nunique(), \"unique primary categories\")\n",
    "print(df[\"SubCategory\"].nunique(), \"unique subcategories\")\n",
    "print(df[\"ChemicalName\"].nunique(), \"unique chemicals\")\n"
   ]
  }
 ],
 "metadata": {
  "kernelspec": {
   "display_name": "Python 3 (ipykernel)",
   "language": "python",
   "name": "python3"
  },
  "language_info": {
   "codemirror_mode": {
    "name": "ipython",
    "version": 3
   },
   "file_extension": ".py",
   "mimetype": "text/x-python",
   "name": "python",
   "nbconvert_exporter": "python",
   "pygments_lexer": "ipython3",
   "version": "3.11.7"
  }
 },
 "nbformat": 4,
 "nbformat_minor": 5
}
